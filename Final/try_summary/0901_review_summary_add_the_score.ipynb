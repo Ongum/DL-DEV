{
 "cells": [
  {
   "cell_type": "code",
   "execution_count": 6,
   "metadata": {},
   "outputs": [
    {
     "name": "stderr",
     "output_type": "stream",
     "text": [
      "The tokenizer class you load from this checkpoint is not the same type as the class this function is called from. It may result in unexpected tokenization. \n",
      "The tokenizer class you load from this checkpoint is 'KoBertTokenizer'. \n",
      "The class this function is called from is 'BertTokenizer'.\n",
      "C:\\Users\\G-01\\AppData\\Roaming\\Python\\Python38\\site-packages\\transformers\\tokenization_utils_base.py:1601: FutureWarning: `clean_up_tokenization_spaces` was not set. It will be set to `True` by default. This behavior will be depracted in transformers v4.45, and will be then set to `False` by default. For more details check this issue: https://github.com/huggingface/transformers/issues/31884\n",
      "  warnings.warn(\n",
      "Some weights of BertForSequenceClassification were not initialized from the model checkpoint at monologg/kobert and are newly initialized: ['classifier.bias', 'classifier.weight']\n",
      "You should probably TRAIN this model on a down-stream task to be able to use it for predictions and inference.\n",
      "Processing Reviews: 100%|██████████| 53319/53319 [42:11<00:00, 21.07it/s]  \n",
      "You passed along `num_labels=3` with an incompatible id to label map: {'0': 'NEGATIVE', '1': 'POSITIVE'}. The number of labels wil be overwritten to 2.\n",
      "Processing Stores:   8%|▊         | 62/737 [03:05<36:20,  3.23s/it]"
     ]
    },
    {
     "name": "stdout",
     "output_type": "stream",
     "text": [
      "Error processing store 남미 플랜트 랩: division by zero\n"
     ]
    },
    {
     "name": "stderr",
     "output_type": "stream",
     "text": [
      "Processing Stores:  10%|█         | 76/737 [03:46<31:41,  2.88s/it]"
     ]
    },
    {
     "name": "stdout",
     "output_type": "stream",
     "text": [
      "Error processing store 다올: division by zero\n"
     ]
    },
    {
     "name": "stderr",
     "output_type": "stream",
     "text": [
      "Processing Stores:  13%|█▎        | 93/737 [04:41<33:08,  3.09s/it]"
     ]
    },
    {
     "name": "stdout",
     "output_type": "stream",
     "text": [
      "Error processing store 도만다 신용산점: division by zero\n"
     ]
    },
    {
     "name": "stderr",
     "output_type": "stream",
     "text": [
      "Processing Stores:  14%|█▍        | 104/737 [05:14<31:13,  2.96s/it]"
     ]
    },
    {
     "name": "stdout",
     "output_type": "stream",
     "text": [
      "Error processing store 동남옥탑: division by zero\n"
     ]
    },
    {
     "name": "stderr",
     "output_type": "stream",
     "text": [
      "Processing Stores:  15%|█▌        | 114/737 [05:45<31:31,  3.04s/it]"
     ]
    },
    {
     "name": "stdout",
     "output_type": "stream",
     "text": [
      "Error processing store 따올라이 상도점: division by zero\n"
     ]
    },
    {
     "name": "stderr",
     "output_type": "stream",
     "text": [
      "Processing Stores:  16%|█▋        | 121/737 [06:07<31:11,  3.04s/it]"
     ]
    },
    {
     "name": "stdout",
     "output_type": "stream",
     "text": [
      "Error processing store 라뜰리에 이은: division by zero\n"
     ]
    },
    {
     "name": "stderr",
     "output_type": "stream",
     "text": [
      "Processing Stores:  17%|█▋        | 126/737 [06:23<32:36,  3.20s/it]"
     ]
    },
    {
     "name": "stdout",
     "output_type": "stream",
     "text": [
      "Error processing store 라페리체: division by zero\n"
     ]
    },
    {
     "name": "stderr",
     "output_type": "stream",
     "text": [
      "Processing Stores:  23%|██▎       | 166/737 [08:25<28:32,  3.00s/it]"
     ]
    },
    {
     "name": "stdout",
     "output_type": "stream",
     "text": [
      "Error processing store 릴리스이나살: division by zero\n"
     ]
    },
    {
     "name": "stderr",
     "output_type": "stream",
     "text": [
      "Processing Stores:  26%|██▋       | 194/737 [09:48<27:33,  3.05s/it]"
     ]
    },
    {
     "name": "stdout",
     "output_type": "stream",
     "text": [
      "Error processing store 멕시칸라이브그릴 송파점: division by zero\n"
     ]
    },
    {
     "name": "stderr",
     "output_type": "stream",
     "text": [
      "Processing Stores:  27%|██▋       | 201/737 [10:09<26:19,  2.95s/it]"
     ]
    },
    {
     "name": "stdout",
     "output_type": "stream",
     "text": [
      "Error processing store 모아쏭 콤마: division by zero\n"
     ]
    },
    {
     "name": "stderr",
     "output_type": "stream",
     "text": [
      "Processing Stores:  27%|██▋       | 202/737 [10:11<22:02,  2.47s/it]"
     ]
    },
    {
     "name": "stdout",
     "output_type": "stream",
     "text": [
      "Error processing store 몬스택 버거: division by zero\n"
     ]
    },
    {
     "name": "stderr",
     "output_type": "stream",
     "text": [
      "Processing Stores:  37%|███▋      | 271/737 [13:34<20:03,  2.58s/it]"
     ]
    },
    {
     "name": "stdout",
     "output_type": "stream",
     "text": [
      "Error processing store 백스트리트독스(Backstreet Dogs): division by zero\n"
     ]
    },
    {
     "name": "stderr",
     "output_type": "stream",
     "text": [
      "Processing Stores:  42%|████▏     | 307/737 [15:19<22:16,  3.11s/it]"
     ]
    },
    {
     "name": "stdout",
     "output_type": "stream",
     "text": [
      "Error processing store 비스트로베름: division by zero\n"
     ]
    },
    {
     "name": "stderr",
     "output_type": "stream",
     "text": [
      "Processing Stores:  42%|████▏     | 310/737 [15:27<20:40,  2.90s/it]"
     ]
    },
    {
     "name": "stdout",
     "output_type": "stream",
     "text": [
      "Error processing store 비아세라(Via sera): division by zero\n"
     ]
    },
    {
     "name": "stderr",
     "output_type": "stream",
     "text": [
      "Processing Stores:  43%|████▎     | 316/737 [15:45<21:28,  3.06s/it]"
     ]
    },
    {
     "name": "stdout",
     "output_type": "stream",
     "text": [
      "Error processing store 사계원: division by zero\n"
     ]
    },
    {
     "name": "stderr",
     "output_type": "stream",
     "text": [
      "Processing Stores:  45%|████▍     | 328/737 [16:18<18:29,  2.71s/it]"
     ]
    },
    {
     "name": "stdout",
     "output_type": "stream",
     "text": [
      "Error processing store 살롱 드 이자드(Salon de Izzard): division by zero\n"
     ]
    },
    {
     "name": "stderr",
     "output_type": "stream",
     "text": [
      "Processing Stores:  48%|████▊     | 353/737 [17:37<20:04,  3.14s/it]"
     ]
    },
    {
     "name": "stdout",
     "output_type": "stream",
     "text": [
      "Error processing store 쉐 올리비아: division by zero\n"
     ]
    },
    {
     "name": "stderr",
     "output_type": "stream",
     "text": [
      "Processing Stores:  54%|█████▍    | 401/737 [19:58<16:46,  3.00s/it]"
     ]
    },
    {
     "name": "stdout",
     "output_type": "stream",
     "text": [
      "Error processing store 안녕 쿠마: division by zero\n"
     ]
    },
    {
     "name": "stderr",
     "output_type": "stream",
     "text": [
      "Processing Stores:  64%|██████▍   | 473/737 [23:36<14:09,  3.22s/it]"
     ]
    },
    {
     "name": "stdout",
     "output_type": "stream",
     "text": [
      "Error processing store 육도담 압구정로데오점: division by zero\n"
     ]
    },
    {
     "name": "stderr",
     "output_type": "stream",
     "text": [
      "Processing Stores:  72%|███████▏  | 527/737 [26:17<10:54,  3.12s/it]"
     ]
    },
    {
     "name": "stdout",
     "output_type": "stream",
     "text": [
      "Error processing store 초비국수 서울구로점: division by zero\n"
     ]
    },
    {
     "name": "stderr",
     "output_type": "stream",
     "text": [
      "Processing Stores:  77%|███████▋  | 568/737 [28:19<08:18,  2.95s/it]"
     ]
    },
    {
     "name": "stdout",
     "output_type": "stream",
     "text": [
      "Error processing store 클레오파트라 라운지카페(cleopatra lounge cafe): division by zero\n"
     ]
    },
    {
     "name": "stderr",
     "output_type": "stream",
     "text": [
      "Processing Stores:  81%|████████  | 594/737 [29:35<07:47,  3.27s/it]"
     ]
    },
    {
     "name": "stdout",
     "output_type": "stream",
     "text": [
      "Error processing store 태그누: division by zero\n"
     ]
    },
    {
     "name": "stderr",
     "output_type": "stream",
     "text": [
      "Processing Stores:  82%|████████▏ | 603/737 [30:01<06:33,  2.93s/it]"
     ]
    },
    {
     "name": "stdout",
     "output_type": "stream",
     "text": [
      "Error processing store 트라토리아 하이디(TRATTORIA HEIDI): division by zero\n"
     ]
    },
    {
     "name": "stderr",
     "output_type": "stream",
     "text": [
      "Processing Stores:  84%|████████▍ | 621/737 [30:55<05:38,  2.92s/it]"
     ]
    },
    {
     "name": "stdout",
     "output_type": "stream",
     "text": [
      "Error processing store 페르바코(PERBACCO): division by zero\n"
     ]
    },
    {
     "name": "stderr",
     "output_type": "stream",
     "text": [
      "Processing Stores:  92%|█████████▏| 676/737 [33:37<02:30,  2.46s/it]"
     ]
    },
    {
     "name": "stdout",
     "output_type": "stream",
     "text": [
      "Error processing store 피자스톰 강남점: division by zero\n"
     ]
    },
    {
     "name": "stderr",
     "output_type": "stream",
     "text": [
      "Processing Stores:  95%|█████████▍| 699/737 [34:50<01:59,  3.15s/it]"
     ]
    },
    {
     "name": "stdout",
     "output_type": "stream",
     "text": [
      "Error processing store 핸드파스타(Hand pasta): division by zero\n"
     ]
    },
    {
     "name": "stderr",
     "output_type": "stream",
     "text": [
      "Processing Stores:  98%|█████████▊| 723/737 [36:01<00:41,  2.98s/it]"
     ]
    },
    {
     "name": "stdout",
     "output_type": "stream",
     "text": [
      "Error processing store 후안타이: division by zero\n"
     ]
    },
    {
     "name": "stderr",
     "output_type": "stream",
     "text": [
      "Processing Stores: 100%|██████████| 737/737 [36:41<00:00,  2.99s/it]"
     ]
    },
    {
     "name": "stdout",
     "output_type": "stream",
     "text": [
      "Results saved to 20240901_170257_리뷰요약및점수.csv\n"
     ]
    },
    {
     "name": "stderr",
     "output_type": "stream",
     "text": [
      "\n"
     ]
    }
   ],
   "source": [
    "import os\n",
    "import pandas as pd\n",
    "import torch\n",
    "import re\n",
    "from tqdm import tqdm\n",
    "from soynlp.normalizer import repeat_normalize\n",
    "from transformers import PreTrainedTokenizerFast, BartForConditionalGeneration, BertTokenizer, BertForSequenceClassification\n",
    "from sklearn.feature_extraction.text import TfidfVectorizer\n",
    "from sklearn.metrics.pairwise import cosine_similarity\n",
    "from collections import Counter\n",
    "import numpy as np\n",
    "from datetime import datetime\n",
    "import matplotlib.pyplot as plt\n",
    "import seaborn as sns\n",
    "from textblob import TextBlob\n",
    "\n",
    "# GPU 설정\n",
    "device = torch.device('cuda' if torch.cuda.is_available() else 'cpu')\n",
    "\n",
    "# 데이터셋 로드 및 전처리\n",
    "file_path = './외국음식전문점.csv'\n",
    "df = pd.read_csv(file_path)\n",
    "df['content'] = df['content'].fillna('')\n",
    "text_data = df['content'].tolist()\n",
    "\n",
    "# 전처리 함수 정의\n",
    "def preprocess_text(text):\n",
    "    text = text.lower()\n",
    "    text = re.sub(r'[^가-힣\\s]', '', text)\n",
    "    text = repeat_normalize(text, num_repeats=2)\n",
    "    stopwords = ['이', '그', '저', '의', '을', '를', '은', '는', '에', '와', '과', '도', '으로', '그리고', '하지만', '그래서']\n",
    "    text = ' '.join([word for word in text.split() if word not in stopwords])\n",
    "    return text.strip()\n",
    "\n",
    "preprocessed_data = [preprocess_text(review) for review in text_data]\n",
    "\n",
    "# 카테고리 및 강화된 키워드 설정 ## 비추천 항목 추가\n",
    "categories = ['맛', '가격', '서비스', '분위기', '추천', '비추천']\n",
    "category_keywords = {\n",
    "    '맛': ['맛', '요리', '음식', '메뉴', '향', '식감', '맛집', '고소', '달콤', '짭짤', '신선', '풍미', '스파이시', '향긋', '촉촉', '바삭', '탱탱', '육즙', '알싸', '상큼', '쫄깃'],\n",
    "    '가격': ['가격', '비싸', '저렴', '가성비', '비용', '비교', '비율', '가격대', '할인', '구성', '합리적', '저렴하다', '가격 대비', '적당', '경제적', '비용 절감', '가치', '수익', '돈값', '고가', '저가'],\n",
    "    '서비스': ['서비스', '직원', '응대', '친절', '매너', '대응', '접대', '환대', '서빙', '응대', '고객', '케어', '친절하다', '프로페셔널', '빠르다', '세심하다', '친절도', '고객 관리', '서비스 정신', '상냥', '대접'],\n",
    "    '분위기': ['분위기', '환경', '인테리어', '공간', '장식', '조명', '음악', '장소', '배경', '아늑하다', '세련', '깔끔', '모던', '클래식', '고급스럽다', '편안하다', '우아', '로맨틱', '분위기 있는', '차분하다', '힐링'],\n",
    "    '추천': ['추천', '소개', '다음에 또', '재방문', '다시 방문', '친구', '소개하고 싶다', '꼭 오고 싶다', '꼭 다시', '나만 알고 싶다'],\n",
    "    '비추천': ['비추천', '다신 안', '절대 안', '다시 오지 않다', '다신 안 가다', '비추', '실망', '후회', '최악']\n",
    "}\n",
    "\n",
    "# 리뷰 카테고리 분류 함수\n",
    "def categorize_review(review):\n",
    "    tfidf_vectorizer = TfidfVectorizer()\n",
    "    keyword_docs = [\" \".join(keywords) for keywords in category_keywords.values()]\n",
    "    tfidf_matrix = tfidf_vectorizer.fit_transform(keyword_docs + [review])\n",
    "    cosine_similarities = cosine_similarity(tfidf_matrix[-1], tfidf_matrix[:-1]).flatten()\n",
    "    top_categories = [categories[i] for i in cosine_similarities.argsort()[-2:]]\n",
    "    return top_categories\n",
    "\n",
    "# 대표 메뉴 추출\n",
    "menu_keywords = [\"피자\", \"스파게티\", \"버거\", \"스테이크\", \"초밥\"]  # 예시 메뉴 키워드\n",
    "menu_counter = Counter()\n",
    "for review in preprocessed_data:\n",
    "    for menu in menu_keywords:\n",
    "        if menu in review:\n",
    "            menu_counter[menu] += 1\n",
    "\n",
    "top_menus = menu_counter.most_common(3)\n",
    "\n",
    "# 감정 분석 모델 로드\n",
    "tokenizer_kobert = BertTokenizer.from_pretrained('monologg/kobert')\n",
    "model_kobert = BertForSequenceClassification.from_pretrained('monologg/kobert', num_labels=3).to(device)  # 3개의 레이블: 긍정, 부정, 중립\n",
    "\n",
    "# 감정 분석 수행 및 카테고리별 비율 분석\n",
    "sentiment_results = []\n",
    "category_sentiments = {category: Counter() for category in categories}\n",
    "\n",
    "for review in tqdm(preprocessed_data, desc=\"Processing Reviews\"):\n",
    "    inputs_kobert = tokenizer_kobert(review, return_tensors='pt', padding=True, truncation=True, max_length=128).to(device)\n",
    "    with torch.no_grad():\n",
    "        output_kobert = model_kobert(**inputs_kobert)\n",
    "        sentiment = torch.argmax(output_kobert.logits, dim=1).item()\n",
    "\n",
    "    categories_found = categorize_review(review)\n",
    "    sentiment_results.append(sentiment)\n",
    "    for category in categories_found:\n",
    "        category_sentiments[category][sentiment] += 1\n",
    "\n",
    "# 리뷰 요약 모델 로드 및 요약 생성 (간결한 요약 설정)\n",
    "bart_tokenizer = PreTrainedTokenizerFast.from_pretrained('EbanLee/kobart-summary-v3')\n",
    "bart_model = BartForConditionalGeneration.from_pretrained('EbanLee/kobart-summary-v3').to(device)\n",
    "\n",
    "def summarize_reviews(reviews):\n",
    "    combined_reviews = \" \".join(reviews)\n",
    "    inputs_bart = bart_tokenizer([combined_reviews], return_tensors='pt', padding=True, truncation=True, max_length=512).to(device)\n",
    "    summary_ids = bart_model.generate(\n",
    "        inputs_bart['input_ids'], \n",
    "        attention_mask=inputs_bart['attention_mask'], \n",
    "        max_length=50,  # 더 짧은 요약\n",
    "        min_length=20,  \n",
    "        length_penalty=2.0,  \n",
    "        num_beams=4, \n",
    "        no_repeat_ngram_size=2,  \n",
    "        repetition_penalty=1.2,  \n",
    "        early_stopping=True\n",
    "    )\n",
    "    summary = bart_tokenizer.decode(summary_ids[0], skip_special_tokens=True)\n",
    "    \n",
    "    # TextBlob을 사용하여 문장 자연스러움 개선\n",
    "    blob = TextBlob(summary)\n",
    "    corrected_summary = str(blob.correct())\n",
    "    \n",
    "    # 'of' 같은 불필요한 단어 제거\n",
    "    corrected_summary = re.sub(r'\\bof\\b', '', corrected_summary)\n",
    "    \n",
    "    return corrected_summary\n",
    "\n",
    "# 가게별 리뷰 종합 요약 및 점수 계산\n",
    "\n",
    "# 그룹화된 데이터를 가게별로 가져오기\n",
    "store_grouped = df.groupby('store_name')['content']\n",
    "\n",
    "store_summaries = []\n",
    "\n",
    "# 순차적으로 가게별 리뷰를 요약 생성 및 점수 계산\n",
    "for store_name, reviews in tqdm(store_grouped, desc=\"Processing Stores\"):\n",
    "    try:\n",
    "        reviews = reviews.tolist()  # 그룹화된 데이터는 시리즈로 나오므로 리스트로 변환\n",
    "        preprocessed_reviews = [preprocess_text(review) for review in reviews]\n",
    "        summary = summarize_reviews(preprocessed_reviews)\n",
    "\n",
    "        # 감성 비율 계산\n",
    "        sentiments = [sentiment_results[i] for i, r in enumerate(preprocessed_data) if r in reviews]\n",
    "        sentiment_counts = Counter(sentiments)\n",
    "        total_reviews = len(sentiments)\n",
    "        sentiment_ratios = {label: sentiment_counts.get(i, 0) / total_reviews for i, label in enumerate(['Negative', 'Neutral', 'Positive'])}\n",
    "\n",
    "        # 카테고리별 점수 계산\n",
    "        category_scores = {}\n",
    "        for category in categories:\n",
    "            category_count = sum(category_sentiments[category].values())\n",
    "            category_scores[category] = category_sentiments[category][2] / category_count if category_count > 0 else 0  # 긍정 점수\n",
    "\n",
    "        # 최종 점수 계산 (예: 감성 비율과 카테고리 점수의 평균)\n",
    "        overall_score = (sentiment_ratios['Positive'] + sum(category_scores.values()) / len(categories)) / 2\n",
    "\n",
    "        # 결과 저장\n",
    "        store_summaries.append({\n",
    "            'Store Name': store_name,\n",
    "            'Summary': summary,\n",
    "            'Negative Ratio': sentiment_ratios['Negative'],\n",
    "            'Neutral Ratio': sentiment_ratios['Neutral'],\n",
    "            'Positive Ratio': sentiment_ratios['Positive'],\n",
    "            'Taste Score': category_scores['맛'],\n",
    "            'Price Score': category_scores['가격'],\n",
    "            'Service Score': category_scores['서비스'],\n",
    "            'Atmosphere Score': category_scores['분위기'],\n",
    "            'Recommendation Score': category_scores['추천'],\n",
    "            'Non-recommendation Score': category_scores['비추천'],\n",
    "            'Overall Score': overall_score\n",
    "        })\n",
    "\n",
    "    except Exception as e:\n",
    "        print(f\"Error processing store {store_name}: {e}\")\n",
    "\n",
    "# 현재 날짜와 시간을 가져와서 파일 이름에 포함\n",
    "current_time = datetime.now().strftime('%Y%m%d_%H%M%S')\n",
    "file_name = f'{current_time}_리뷰요약및점수.csv'\n",
    "\n",
    "# 결과를 CSV 파일로 저장\n",
    "try:\n",
    "    final_results = pd.DataFrame(store_summaries)\n",
    "    final_results.to_csv(file_name, index=False)\n",
    "    print(f\"Results saved to {file_name}\")\n",
    "except Exception as e:\n",
    "    print(f\"Error in saving results to CSV: {e}\")\n"
   ]
  },
  {
   "cell_type": "code",
   "execution_count": 9,
   "metadata": {},
   "outputs": [
    {
     "name": "stdout",
     "output_type": "stream",
     "text": [
      "               Store Name  Final Score\n",
      "249            발리다포차(한남점)    50.151089\n",
      "262   버팔로스팟(Buffalo Spot)    50.137258\n",
      "0                 (주)애브릿지    50.137232\n",
      "707                 흑석호치민    50.137232\n",
      "381             아토키토 보라매점    50.137232\n",
      "136      로찌마곡(LodgeMagok)    50.137232\n",
      "24              강남쌀국수 마곡점    50.137232\n",
      "541                퀼 QUIL    50.123388\n",
      "422                   오빈스    50.109557\n",
      "523  커피버넷(COFFEE BURNETT)    50.109557\n"
     ]
    }
   ],
   "source": [
    "import pandas as pd\n",
    "\n",
    "# 데이터 불러오기\n",
    "file_path = './20240901_170257_리뷰요약및점수.csv'  # 실제 파일 경로로 변경하세요\n",
    "df = pd.read_csv(file_path)\n",
    "\n",
    "# 가중치 설정\n",
    "weights = {\n",
    "    'Positive Ratio': 50,\n",
    "    'Neutral Ratio': 20,\n",
    "    'Negative Ratio': -30,\n",
    "    'Recommendation Score': 30,\n",
    "    'Non-recommendation Score': -30\n",
    "}\n",
    "\n",
    "# 각 가게의 최종 점수 계산 (100점 만점)\n",
    "df['Final Score'] = (\n",
    "    df['Positive Ratio'] * weights['Positive Ratio'] +\n",
    "    df['Neutral Ratio'] * weights['Neutral Ratio'] +\n",
    "    df['Negative Ratio'] * weights['Negative Ratio'] +\n",
    "    df['Recommendation Score'] * weights['Recommendation Score'] +\n",
    "    df['Non-recommendation Score'] * weights['Non-recommendation Score']\n",
    ")\n",
    "\n",
    "# 100점 만점으로 정규화\n",
    "df['Final Score'] = df['Final Score'].clip(0, 100)  # 점수가 0보다 작거나 100을 넘지 않도록 조정\n",
    "\n",
    "# 상위 10개 가게 선택\n",
    "top_10_stores = df.sort_values(by='Final Score', ascending=False).head(10)\n",
    "\n",
    "# 최종 점수 출력\n",
    "print(top_10_stores[['Store Name', 'Final Score']])\n"
   ]
  }
 ],
 "metadata": {
  "kernelspec": {
   "display_name": "dl-dev",
   "language": "python",
   "name": "python3"
  },
  "language_info": {
   "codemirror_mode": {
    "name": "ipython",
    "version": 3
   },
   "file_extension": ".py",
   "mimetype": "text/x-python",
   "name": "python",
   "nbconvert_exporter": "python",
   "pygments_lexer": "ipython3",
   "version": "3.8.16"
  }
 },
 "nbformat": 4,
 "nbformat_minor": 2
}
