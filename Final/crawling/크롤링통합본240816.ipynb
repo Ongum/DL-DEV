{
 "cells": [
  {
   "cell_type": "code",
   "execution_count": 2,
   "metadata": {},
   "outputs": [],
   "source": [
    "# 수정 : try문에서 예외 발생시 출력되는 문구 삭제\n",
    "\n",
    "\n",
    "from selenium.webdriver.common.by import By\n",
    "from selenium.webdriver.chrome.service import Service\n",
    "from selenium.webdriver.support.ui import WebDriverWait\n",
    "from selenium.webdriver.support import expected_conditions as EC\n",
    "from selenium.webdriver.common.keys import Keys\n",
    "from selenium import webdriver\n",
    "from webdriver_manager.chrome import ChromeDriverManager\n",
    "import time\n",
    "import datetime\n",
    "import pandas as pd\n",
    "from tqdm import tqdm\n",
    "from bs4 import BeautifulSoup\n"
   ]
  },
  {
   "cell_type": "code",
   "execution_count": 3,
   "metadata": {},
   "outputs": [],
   "source": [
    "\n",
    "# 크롬 옵션 설정\n",
    "options = webdriver.ChromeOptions()\n",
    "user_agent = \"Mozilla/5.0 (Macintosh; Intel Mac OS X 10_12_6) AppleWebKit/537.36 (KHTML, like Gecko) Chrome/61.0.3163.100 Safari/537.36\"\n",
    "options.add_argument('user-agent=' + user_agent)\n",
    "options.add_argument(\"lang=ko_KR\")\n",
    "options.add_argument('window-size=1920x1080')\n",
    "options.add_argument(\"disable-gpu\")\n",
    "options.add_argument(\"--no-sandbox\")\n"
   ]
  },
  {
   "cell_type": "code",
   "execution_count": 4,
   "metadata": {},
   "outputs": [],
   "source": [
    "\n",
    "# 데이터 불러오기 및 필터링\n",
    "restaurant_df = pd.read_csv('./음식종류/외국음식전문점_인도.csv', encoding='utf-8', low_memory=False)\n",
    "store_names = restaurant_df['사업장명'].tolist()\n"
   ]
  },
  {
   "cell_type": "code",
   "execution_count": 5,
   "metadata": {},
   "outputs": [],
   "source": [
    "\n",
    "# 크롬 드라이버 최신 버전 설정 & 실행\n",
    "service = Service(ChromeDriverManager().install())\n",
    "driver = webdriver.Chrome(service=service, options=options)\n"
   ]
  },
  {
   "cell_type": "code",
   "execution_count": 6,
   "metadata": {},
   "outputs": [],
   "source": [
    "\n",
    "# 식당명 검색 함수\n",
    "def search_place_id(restaurant_name):\n",
    "    search_url = f\"https://search.naver.com/search.naver?query={restaurant_name}\"\n",
    "    driver.get(search_url)\n",
    "    driver.implicitly_wait(10)\n",
    "    html = driver.page_source\n",
    "    soup = BeautifulSoup(html, 'html.parser')\n",
    "    a_tag = soup.select_one('#_title > a')\n",
    "\n",
    "    if a_tag and 'href' in a_tag.attrs:\n",
    "        href = a_tag['href']\n",
    "        place_id_with_params = href.split('/')[-1]\n",
    "        place_id = place_id_with_params.split('?')[0]\n",
    "        return place_id\n",
    "\n",
    "    return None\n"
   ]
  },
  {
   "cell_type": "code",
   "execution_count": 7,
   "metadata": {},
   "outputs": [
    {
     "name": "stderr",
     "output_type": "stream",
     "text": [
      "Naver 검색 중: 100%|██████████| 1797/1797 [27:10<00:00,  1.10it/s]\n",
      "크롤링 중:   6%|▌         | 45/758 [19:55<4:35:00, 23.14s/it]"
     ]
    },
    {
     "name": "stdout",
     "output_type": "stream",
     "text": [
      "리뷰를 찾지 못했습니다: 굿손 연남점\n"
     ]
    },
    {
     "name": "stderr",
     "output_type": "stream",
     "text": [
      "크롤링 중:  19%|█▊        | 142/758 [1:01:35<3:41:17, 21.55s/it]"
     ]
    },
    {
     "name": "stdout",
     "output_type": "stream",
     "text": [
      "리뷰를 찾지 못했습니다: 피프에스프레소바 을지로점\n"
     ]
    },
    {
     "name": "stderr",
     "output_type": "stream",
     "text": [
      "크롤링 중:  19%|█▉        | 144/758 [1:02:18<3:37:31, 21.26s/it]"
     ]
    },
    {
     "name": "stdout",
     "output_type": "stream",
     "text": [
      "리뷰를 찾지 못했습니다: 진비마라탕\n"
     ]
    },
    {
     "name": "stderr",
     "output_type": "stream",
     "text": [
      "크롤링 중:  26%|██▌       | 196/758 [1:24:51<3:50:17, 24.59s/it]"
     ]
    },
    {
     "name": "stdout",
     "output_type": "stream",
     "text": [
      "리뷰를 찾지 못했습니다: 수호마라탕\n"
     ]
    },
    {
     "name": "stderr",
     "output_type": "stream",
     "text": [
      "크롤링 중:  27%|██▋       | 202/758 [1:27:13<3:27:24, 22.38s/it]"
     ]
    },
    {
     "name": "stdout",
     "output_type": "stream",
     "text": [
      "리뷰를 찾지 못했습니다: 핑크위스키(Pink Whiskey)\n"
     ]
    },
    {
     "name": "stderr",
     "output_type": "stream",
     "text": [
      "크롤링 중:  30%|███       | 229/758 [1:38:36<3:21:01, 22.80s/it]"
     ]
    },
    {
     "name": "stdout",
     "output_type": "stream",
     "text": [
      "리뷰를 찾지 못했습니다: 몬스터포 관악점\n"
     ]
    },
    {
     "name": "stderr",
     "output_type": "stream",
     "text": [
      "크롤링 중:  32%|███▏      | 246/758 [1:45:40<3:15:01, 22.86s/it]"
     ]
    },
    {
     "name": "stdout",
     "output_type": "stream",
     "text": [
      "리뷰를 찾지 못했습니다: 아라베크 나이트(Arabic night)\n"
     ]
    },
    {
     "name": "stderr",
     "output_type": "stream",
     "text": [
      "크롤링 중:  35%|███▌      | 266/758 [1:54:12<3:02:31, 22.26s/it]"
     ]
    },
    {
     "name": "stdout",
     "output_type": "stream",
     "text": [
      "리뷰를 찾지 못했습니다: 노모어피자(상계점)\n"
     ]
    },
    {
     "name": "stderr",
     "output_type": "stream",
     "text": [
      "크롤링 중:  45%|████▍     | 341/758 [2:27:00<2:54:42, 25.14s/it]"
     ]
    },
    {
     "name": "stdout",
     "output_type": "stream",
     "text": [
      "리뷰를 찾지 못했습니다: 나시고랭라리스\n"
     ]
    },
    {
     "name": "stderr",
     "output_type": "stream",
     "text": [
      "크롤링 중:  47%|████▋     | 353/758 [2:32:02<2:37:32, 23.34s/it]"
     ]
    },
    {
     "name": "stdout",
     "output_type": "stream",
     "text": [
      "리뷰를 찾지 못했습니다: 써니비치클럽\n"
     ]
    },
    {
     "name": "stderr",
     "output_type": "stream",
     "text": [
      "크롤링 중:  50%|█████     | 382/758 [2:43:45<2:17:19, 21.91s/it]"
     ]
    },
    {
     "name": "stdout",
     "output_type": "stream",
     "text": [
      "리뷰를 찾지 못했습니다: 베델아프리칸레스토랑(BETHEL AFRICAN RESTAURANT)\n"
     ]
    },
    {
     "name": "stderr",
     "output_type": "stream",
     "text": [
      "크롤링 중:  57%|█████▋    | 431/758 [3:05:17<2:10:36, 23.96s/it]"
     ]
    },
    {
     "name": "stdout",
     "output_type": "stream",
     "text": [
      "리뷰를 찾지 못했습니다: 낙타길\n"
     ]
    },
    {
     "name": "stderr",
     "output_type": "stream",
     "text": [
      "크롤링 중:  66%|██████▌   | 497/758 [3:30:28<1:22:47, 19.03s/it]"
     ]
    },
    {
     "name": "stdout",
     "output_type": "stream",
     "text": [
      "리뷰를 찾지 못했습니다: 인생치밥 신림점\n"
     ]
    },
    {
     "name": "stderr",
     "output_type": "stream",
     "text": [
      "크롤링 중:  74%|███████▍  | 563/758 [3:56:42<1:13:20, 22.57s/it]"
     ]
    },
    {
     "name": "stdout",
     "output_type": "stream",
     "text": [
      "리뷰를 찾지 못했습니다: 에글렌느 퀴진(Aiglenne Cuisine)\n"
     ]
    },
    {
     "name": "stderr",
     "output_type": "stream",
     "text": [
      "크롤링 중:  94%|█████████▍| 711/758 [4:59:45<17:48, 22.73s/it]  "
     ]
    },
    {
     "name": "stdout",
     "output_type": "stream",
     "text": [
      "리뷰를 찾지 못했습니다: 포우(POW)\n"
     ]
    },
    {
     "name": "stderr",
     "output_type": "stream",
     "text": [
      "크롤링 중:  99%|█████████▊| 748/758 [5:16:05<04:26, 26.63s/it]"
     ]
    },
    {
     "name": "stdout",
     "output_type": "stream",
     "text": [
      "리뷰를 찾지 못했습니다: 삼츈식당\n"
     ]
    },
    {
     "name": "stderr",
     "output_type": "stream",
     "text": [
      "크롤링 중: 100%|██████████| 758/758 [5:20:33<00:00, 25.37s/it]\n"
     ]
    }
   ],
   "source": [
    "\n",
    "# 리뷰 크롤링 함수\n",
    "def crawl_reviews(store_name, url):\n",
    "    driver.get(url)\n",
    "    time.sleep(3)\n",
    "\n",
    "    # 페이지 스크롤 및 더보기 버튼 클릭\n",
    "    for _ in range(9):  # 최대 9번 반복\n",
    "        driver.find_element(By.TAG_NAME, 'body').send_keys(Keys.PAGE_DOWN)\n",
    "        time.sleep(0.4)\n",
    "        try:\n",
    "            more_button = WebDriverWait(driver, 10).until(\n",
    "                EC.element_to_be_clickable((By.XPATH, '//*[@id=\"app-root\"]/div/div/div/div[6]/div[2]/div[3]/div[2]/div/a'))\n",
    "            )\n",
    "            more_button.click()\n",
    "            time.sleep(0.4)\n",
    "        except Exception:\n",
    "            # 예외 발생 시 아무 메시지도 출력하지 않음\n",
    "            break\n",
    "\n",
    "    time.sleep(3)\n",
    "    html = driver.page_source\n",
    "    bs = BeautifulSoup(html, 'lxml')\n",
    "    reviews = bs.select('li.pui__X35jYm.EjjAW')\n",
    "\n",
    "    if not reviews:\n",
    "        print(f\"리뷰를 찾지 못했습니다: {store_name}\")\n",
    "        return None\n",
    "\n",
    "    data = []\n",
    "    for r in reviews:\n",
    "        content = r.select_one('div.pui__vn15t2 > a.pui__xtsQN-')\n",
    "        date_elements = r.select('div.pui__QKE5Pr > span.pui__gfuUIT > time')\n",
    "        date = date_elements[0].text if date_elements else 'N/A'\n",
    "        revisit_span = r.select('div.pui__QKE5Pr > span.pui__gfuUIT')\n",
    "        revisit = revisit_span[1].text if len(revisit_span) > 1 else 'N/A'\n",
    "\n",
    "        data.append({\n",
    "            'store_name': store_name,\n",
    "            'content': content.text.strip() if content else '',\n",
    "            'date': date.strip() if date else '',\n",
    "            'revisit': revisit.strip() if revisit else ''\n",
    "        })\n",
    "        time.sleep(0.06)\n",
    "\n",
    "    return data\n",
    "\n",
    "# 검색되지 않은 가게 정보를 저장할 리스트\n",
    "invalid_data = {\n",
    "    'store_name': [],\n",
    "    'reason': []\n",
    "}\n",
    "\n",
    "# 유효한 place_id를 가진 데이터를 저장할 리스트\n",
    "valid_data = []\n",
    "\n",
    "# 검색 및 URL 생성\n",
    "for name in tqdm(store_names, desc=\"Naver 검색 중\"):\n",
    "    place_id = search_place_id(name)\n",
    "    if place_id:\n",
    "        url = f'https://m.place.naver.com/restaurant/{place_id}/review/visitor?entry=ple&reviewSort=recent'\n",
    "        valid_data.append({\n",
    "            'store_name': name,\n",
    "            'place_id': place_id,\n",
    "            'url': url\n",
    "        })\n",
    "    else:\n",
    "        invalid_data['store_name'].append(name)\n",
    "        invalid_data['reason'].append('검색 결과 없음')\n",
    "\n",
    "# 유효한 데이터를 크롤링하여 결과 저장\n",
    "crawled_data = []\n",
    "\n",
    "try:\n",
    "    for data in tqdm(valid_data, desc=\"크롤링 중\"):\n",
    "        store_name = data['store_name']\n",
    "        url = data['url']\n",
    "        reviews = crawl_reviews(store_name, url)\n",
    "\n",
    "        if reviews:\n",
    "            crawled_data.extend(reviews)\n",
    "        else:\n",
    "            invalid_data['store_name'].append(store_name)\n",
    "            invalid_data['reason'].append('리뷰 없음')\n",
    "\n",
    "    # 크롤링한 데이터를 CSV 파일로 저장\n",
    "    crawled_df = pd.DataFrame(crawled_data)\n",
    "    now = datetime.datetime.now()\n",
    "    file_name = 'naver_review_' + now.strftime('%Y-%m-%d_%H-%M-%S') + '.csv'\n",
    "    crawled_df.to_csv(file_name, encoding='utf-8-sig', index=False)\n",
    "\n",
    "except Exception as e:\n",
    "    # 예외 발생 시 아무 메시지도 출력하지 않음\n",
    "    if crawled_data:\n",
    "        crawled_df = pd.DataFrame(crawled_data)\n",
    "        now = datetime.datetime.now()\n",
    "        file_name = 'naver_review_' + now.strftime('%Y-%m-%d_%H-%M-%S') + '.csv'\n",
    "        crawled_df.to_csv(file_name, encoding='utf-8-sig', index=False)\n",
    "\n",
    "finally:\n",
    "    driver.quit()\n",
    "\n",
    "# 검색되지 않은 가게 정보를 다시 저장 (리뷰 없는 경우 포함)\n",
    "invalid_df = pd.DataFrame(invalid_data)\n",
    "ifile_name = 'invalid_name_' + now.strftime('%Y-%m-%d_%H-%M-%S') + '.csv'\n",
    "invalid_df.to_csv(ifile_name, encoding='utf-8-sig', index=False)\n",
    "\n",
    "\n"
   ]
  },
  {
   "cell_type": "code",
   "execution_count": null,
   "metadata": {},
   "outputs": [],
   "source": []
  }
 ],
 "metadata": {
  "kernelspec": {
   "display_name": "dl-dev",
   "language": "python",
   "name": "python3"
  },
  "language_info": {
   "codemirror_mode": {
    "name": "ipython",
    "version": 3
   },
   "file_extension": ".py",
   "mimetype": "text/x-python",
   "name": "python",
   "nbconvert_exporter": "python",
   "pygments_lexer": "ipython3",
   "version": "3.8.16"
  }
 },
 "nbformat": 4,
 "nbformat_minor": 2
}
