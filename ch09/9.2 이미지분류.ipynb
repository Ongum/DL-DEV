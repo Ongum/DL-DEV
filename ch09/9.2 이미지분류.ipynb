{
 "cells": [
  {
   "cell_type": "code",
   "execution_count": null,
   "metadata": {},
   "outputs": [],
   "source": [
    "import os # 파일 처리 사용하는 모듈\n",
    "\n",
    "input_dir = './images' \n",
    "target_dir = './annotations/trimaps/' # 마스크 데이터, 레이블 \n",
    "\n",
    "# 이미지 파일명 추출, 정렬\n",
    "input_inmg_paths = sorted([\n",
    "    os.path.join(input_dir, fname) #  ./images/Abyssinian_1.jpg\n",
    "    for fname in os.listdir(input_dir)\n",
    "    if fname.endswith('jpg')\n",
    "])\n",
    "farget_paths=sorted([\n",
    "    os.path.join(target_dir, fname)  \n",
    "    for fname in os.listdir(target_dir)\n",
    "    if fname.endswith('.png') and not fname.startswith('.')\n",
    "])"
   ]
  },
  {
   "cell_type": "code",
   "execution_count": null,
   "metadata": {},
   "outputs": [],
   "source": [
    "import matplotlib.pyplot as plt\n",
    "from tensorflow.keras.utils import load_img, img_to_array"
   ]
  },
  {
   "cell_type": "code",
   "execution_count": null,
   "metadata": {},
   "outputs": [],
   "source": [
    "plt.axis('off')\n",
    "plt.imshow(load_img(input_img_paths[0]))"
   ]
  },
  {
   "cell_type": "code",
   "execution_count": null,
   "metadata": {},
   "outputs": [],
   "source": [
    "def display_target(target_array):\n",
    "    normalized_array = (target_array.astype('unit8')-1)*127\n",
    "    plt.axis('off')\n",
    "    plt.imshow(normalized_array[:,:,0])\n",
    "    \n",
    "img=img_to_array(load_img(target_paths[0], color_mode='grayscale'))\n",
    "display_target(img)"
   ]
  },
  {
   "cell_type": "code",
   "execution_count": null,
   "metadata": {},
   "outputs": [],
   "source": []
  },
  {
   "cell_type": "code",
   "execution_count": null,
   "metadata": {},
   "outputs": [],
   "source": []
  },
  {
   "cell_type": "code",
   "execution_count": null,
   "metadata": {},
   "outputs": [],
   "source": []
  },
  {
   "cell_type": "code",
   "execution_count": null,
   "metadata": {},
   "outputs": [],
   "source": []
  }
 ],
 "metadata": {
  "language_info": {
   "name": "python"
  }
 },
 "nbformat": 4,
 "nbformat_minor": 2
}
