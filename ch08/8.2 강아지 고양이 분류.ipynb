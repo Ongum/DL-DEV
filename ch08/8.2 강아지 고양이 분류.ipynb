{
 "cells": [
  {
   "cell_type": "code",
   "execution_count": 3,
   "metadata": {},
   "outputs": [],
   "source": [
    "# !pip install kaggle"
   ]
  },
  {
   "cell_type": "code",
   "execution_count": 4,
   "metadata": {},
   "outputs": [
    {
     "name": "stderr",
     "output_type": "stream",
     "text": [
      "'kaggle'��(��) ���� �Ǵ� �ܺ� ����, ������ �� �ִ� ���α׷�, �Ǵ�\n",
      "��ġ ������ �ƴմϴ�.\n"
     ]
    }
   ],
   "source": [
    "!kaggle competitons download -c dogs-vs-cats"
   ]
  },
  {
   "cell_type": "code",
   "execution_count": 5,
   "metadata": {},
   "outputs": [],
   "source": [
    "import os, shutil, pathlib\n",
    "\n",
    "original_dir = pathlib.Path(\"train\")\n",
    "new_base_dir = pathlib.Path(\"cats_vs_dogs_small\")\n",
    "\n",
    "def make_subset(subset_name, start_index, end_index):\n",
    "    for category in (\"cat\", \"dog\"):\n",
    "        dir = new_base_dir / subset_name / category\n",
    "        os.makedirs(dir)\n",
    "        fnames = [f\"{category}.{i}.jpg\" for i in range(start_index, end_index)]\n",
    "        for fname in fnames:\n",
    "            shutil.copyfile(src=original_dir / fname,\n",
    "                            dst=dir / fname)\n",
    "\n",
    "make_subset(\"train\", start_index=0, end_index=1000)\n",
    "make_subset(\"validation\", start_index=1000, end_index=1500)\n",
    "make_subset(\"test\", start_index=1500, end_index=2500)\n"
   ]
  },
  {
   "cell_type": "code",
   "execution_count": 6,
   "metadata": {},
   "outputs": [],
   "source": [
    "# 모델 생성\n",
    "from tensorflow import keras\n",
    "from tensorflow.keras import layers\n",
    "# 옵티마이저 로스 메트릭 => 컴파일 무조건 세개 튜밍\n",
    "inputs = keras.Input(shape=(180, 180, 3))\n",
    "x = layers.Rescaling(1./255)(inputs)\n",
    "x = layers.Conv2D(filters=32, kernel_size=3, activation=\"relu\")(x)\n",
    "x = layers.MaxPooling2D(pool_size=2)(x)\n",
    "x = layers.Conv2D(filters=64, kernel_size=3, activation=\"relu\")(x)\n",
    "x = layers.MaxPooling2D(pool_size=2)(x)\n",
    "x = layers.Conv2D(filters=128, kernel_size=3, activation=\"relu\")(x)\n",
    "x = layers.MaxPooling2D(pool_size=2)(x)\n",
    "x = layers.Conv2D(filters=256, kernel_size=3, activation=\"relu\")(x)\n",
    "x = layers.MaxPooling2D(pool_size=2)(x)\n",
    "x = layers.Conv2D(filters=256, kernel_size=3, activation=\"relu\")(x)\n",
    "x = layers.Flatten()(x)\n",
    "outputs = layers.Dense(1, activation=\"sigmoid\")(x)\n",
    "model = keras.Model(inputs=inputs, outputs=outputs)\n",
    "\n"
   ]
  },
  {
   "cell_type": "code",
   "execution_count": 7,
   "metadata": {},
   "outputs": [
    {
     "name": "stdout",
     "output_type": "stream",
     "text": [
      "Model: \"model\"\n",
      "_________________________________________________________________\n",
      " Layer (type)                Output Shape              Param #   \n",
      "=================================================================\n",
      " input_1 (InputLayer)        [(None, 180, 180, 3)]     0         \n",
      "                                                                 \n",
      " rescaling (Rescaling)       (None, 180, 180, 3)       0         \n",
      "                                                                 \n",
      " conv2d (Conv2D)             (None, 178, 178, 32)      896       \n",
      "                                                                 \n",
      " max_pooling2d (MaxPooling2D  (None, 89, 89, 32)       0         \n",
      " )                                                               \n",
      "                                                                 \n",
      " conv2d_1 (Conv2D)           (None, 87, 87, 64)        18496     \n",
      "                                                                 \n",
      " max_pooling2d_1 (MaxPooling  (None, 43, 43, 64)       0         \n",
      " 2D)                                                             \n",
      "                                                                 \n",
      " conv2d_2 (Conv2D)           (None, 41, 41, 128)       73856     \n",
      "                                                                 \n",
      " max_pooling2d_2 (MaxPooling  (None, 20, 20, 128)      0         \n",
      " 2D)                                                             \n",
      "                                                                 \n",
      " conv2d_3 (Conv2D)           (None, 18, 18, 256)       295168    \n",
      "                                                                 \n",
      " max_pooling2d_3 (MaxPooling  (None, 9, 9, 256)        0         \n",
      " 2D)                                                             \n",
      "                                                                 \n",
      " conv2d_4 (Conv2D)           (None, 7, 7, 256)         590080    \n",
      "                                                                 \n",
      " flatten (Flatten)           (None, 12544)             0         \n",
      "                                                                 \n",
      " dense (Dense)               (None, 1)                 12545     \n",
      "                                                                 \n",
      "=================================================================\n",
      "Total params: 991,041\n",
      "Trainable params: 991,041\n",
      "Non-trainable params: 0\n",
      "_________________________________________________________________\n"
     ]
    }
   ],
   "source": [
    "model.summary()"
   ]
  },
  {
   "cell_type": "code",
   "execution_count": 8,
   "metadata": {},
   "outputs": [],
   "source": [
    "model.compile(loss=\"binary_crossentropy\", # 이진분류\n",
    "              optimizer=\"rmsprop\", # 학습\n",
    "              metrics=[\"accuracy\"]) # 정확도 평가\n"
   ]
  },
  {
   "cell_type": "code",
   "execution_count": 9,
   "metadata": {},
   "outputs": [
    {
     "name": "stdout",
     "output_type": "stream",
     "text": [
      "Found 2000 files belonging to 2 classes.\n",
      "Found 1000 files belonging to 2 classes.\n",
      "Found 2000 files belonging to 2 classes.\n"
     ]
    }
   ],
   "source": [
    "from tensorflow.keras.utils import image_dataset_from_directory\n",
    "\n",
    "train_dataset = image_dataset_from_directory(\n",
    "    new_base_dir / \"train\",\n",
    "    image_size=(180, 180),\n",
    "    batch_size=32)\n",
    "validation_dataset = image_dataset_from_directory(\n",
    "    new_base_dir / \"validation\",\n",
    "    image_size=(180, 180),\n",
    "    batch_size=32)\n",
    "test_dataset = image_dataset_from_directory(\n",
    "    new_base_dir / \"test\",\n",
    "    image_size=(180, 180),\n",
    "    batch_size=32)\n"
   ]
  },
  {
   "cell_type": "code",
   "execution_count": 10,
   "metadata": {},
   "outputs": [
    {
     "name": "stdout",
     "output_type": "stream",
     "text": [
      "Epoch 1/30\n",
      "63/63 [==============================] - 10s 84ms/step - loss: 0.8211 - accuracy: 0.5030 - val_loss: 0.7216 - val_accuracy: 0.5000\n",
      "Epoch 2/30\n",
      "63/63 [==============================] - 3s 54ms/step - loss: 0.6972 - accuracy: 0.5315 - val_loss: 0.6991 - val_accuracy: 0.5080\n",
      "Epoch 3/30\n",
      "63/63 [==============================] - 3s 53ms/step - loss: 0.6695 - accuracy: 0.5975 - val_loss: 0.6671 - val_accuracy: 0.5640\n",
      "Epoch 4/30\n",
      "63/63 [==============================] - 3s 52ms/step - loss: 0.6320 - accuracy: 0.6525 - val_loss: 0.6686 - val_accuracy: 0.6180\n",
      "Epoch 5/30\n",
      "63/63 [==============================] - 3s 52ms/step - loss: 0.6008 - accuracy: 0.6725 - val_loss: 0.5788 - val_accuracy: 0.6940\n",
      "Epoch 6/30\n",
      "63/63 [==============================] - 3s 52ms/step - loss: 0.5751 - accuracy: 0.7170 - val_loss: 0.6003 - val_accuracy: 0.6660\n",
      "Epoch 7/30\n",
      "63/63 [==============================] - 3s 52ms/step - loss: 0.5296 - accuracy: 0.7310 - val_loss: 0.6018 - val_accuracy: 0.6840\n",
      "Epoch 8/30\n",
      "63/63 [==============================] - 3s 52ms/step - loss: 0.4976 - accuracy: 0.7590 - val_loss: 0.5999 - val_accuracy: 0.6940\n",
      "Epoch 9/30\n",
      "63/63 [==============================] - 3s 52ms/step - loss: 0.4699 - accuracy: 0.7770 - val_loss: 0.6572 - val_accuracy: 0.7170\n",
      "Epoch 10/30\n",
      "63/63 [==============================] - 3s 53ms/step - loss: 0.4458 - accuracy: 0.8070 - val_loss: 0.5612 - val_accuracy: 0.7330\n",
      "Epoch 11/30\n",
      "63/63 [==============================] - 3s 51ms/step - loss: 0.3874 - accuracy: 0.8350 - val_loss: 0.6458 - val_accuracy: 0.7180\n",
      "Epoch 12/30\n",
      "63/63 [==============================] - 3s 52ms/step - loss: 0.3349 - accuracy: 0.8525 - val_loss: 0.8586 - val_accuracy: 0.6720\n",
      "Epoch 13/30\n",
      "63/63 [==============================] - 3s 51ms/step - loss: 0.3066 - accuracy: 0.8765 - val_loss: 0.7016 - val_accuracy: 0.7270\n",
      "Epoch 14/30\n",
      "63/63 [==============================] - 3s 52ms/step - loss: 0.2351 - accuracy: 0.9020 - val_loss: 0.7193 - val_accuracy: 0.7270\n",
      "Epoch 15/30\n",
      "63/63 [==============================] - 3s 51ms/step - loss: 0.2186 - accuracy: 0.9095 - val_loss: 0.7067 - val_accuracy: 0.7020\n",
      "Epoch 16/30\n",
      "63/63 [==============================] - 3s 52ms/step - loss: 0.1694 - accuracy: 0.9335 - val_loss: 0.9986 - val_accuracy: 0.7190\n",
      "Epoch 17/30\n",
      "63/63 [==============================] - 3s 52ms/step - loss: 0.1418 - accuracy: 0.9385 - val_loss: 0.9265 - val_accuracy: 0.7510\n",
      "Epoch 18/30\n",
      "63/63 [==============================] - 3s 51ms/step - loss: 0.1047 - accuracy: 0.9610 - val_loss: 1.1063 - val_accuracy: 0.7410\n",
      "Epoch 19/30\n",
      "63/63 [==============================] - 3s 51ms/step - loss: 0.1026 - accuracy: 0.9580 - val_loss: 1.1604 - val_accuracy: 0.7430\n",
      "Epoch 20/30\n",
      "63/63 [==============================] - 3s 52ms/step - loss: 0.0833 - accuracy: 0.9795 - val_loss: 1.2715 - val_accuracy: 0.7500\n",
      "Epoch 21/30\n",
      "63/63 [==============================] - 3s 52ms/step - loss: 0.0796 - accuracy: 0.9745 - val_loss: 1.2562 - val_accuracy: 0.7390\n",
      "Epoch 22/30\n",
      "63/63 [==============================] - 3s 52ms/step - loss: 0.0654 - accuracy: 0.9765 - val_loss: 1.9249 - val_accuracy: 0.7270\n",
      "Epoch 23/30\n",
      "63/63 [==============================] - 3s 51ms/step - loss: 0.0620 - accuracy: 0.9775 - val_loss: 1.5749 - val_accuracy: 0.7230\n",
      "Epoch 24/30\n",
      "63/63 [==============================] - 3s 52ms/step - loss: 0.0464 - accuracy: 0.9850 - val_loss: 1.5696 - val_accuracy: 0.7380\n",
      "Epoch 25/30\n",
      "63/63 [==============================] - 3s 52ms/step - loss: 0.0665 - accuracy: 0.9785 - val_loss: 2.0924 - val_accuracy: 0.7130\n",
      "Epoch 26/30\n",
      "63/63 [==============================] - 3s 52ms/step - loss: 0.0733 - accuracy: 0.9795 - val_loss: 1.7655 - val_accuracy: 0.7460\n",
      "Epoch 27/30\n",
      "63/63 [==============================] - 3s 52ms/step - loss: 0.0508 - accuracy: 0.9850 - val_loss: 1.7703 - val_accuracy: 0.7400\n",
      "Epoch 28/30\n",
      "63/63 [==============================] - 3s 52ms/step - loss: 0.0623 - accuracy: 0.9820 - val_loss: 1.7161 - val_accuracy: 0.7300\n",
      "Epoch 29/30\n",
      "63/63 [==============================] - 3s 53ms/step - loss: 0.0376 - accuracy: 0.9885 - val_loss: 1.9475 - val_accuracy: 0.6950\n",
      "Epoch 30/30\n",
      "63/63 [==============================] - 3s 52ms/step - loss: 0.0485 - accuracy: 0.9865 - val_loss: 1.9223 - val_accuracy: 0.7270\n"
     ]
    }
   ],
   "source": [
    "callbacks = [\n",
    "    keras.callbacks.ModelCheckpoint( # 베스트 모델 저장\n",
    "        filepath=\"convnet_from_scratch.keras\",\n",
    "        save_best_only=True,\n",
    "        monitor=\"val_loss\")\n",
    "]\n",
    "history = model.fit(\n",
    "    train_dataset,\n",
    "    epochs=30,\n",
    "    validation_data=validation_dataset,\n",
    "    callbacks=callbacks)\n"
   ]
  },
  {
   "cell_type": "code",
   "execution_count": 11,
   "metadata": {},
   "outputs": [
    {
     "data": {
      "text/plain": [
       "{'loss': [0.8210614919662476,\n",
       "  0.6971525549888611,\n",
       "  0.6695398688316345,\n",
       "  0.6320011615753174,\n",
       "  0.6008227467536926,\n",
       "  0.5751291513442993,\n",
       "  0.5295854210853577,\n",
       "  0.4976350963115692,\n",
       "  0.4699065089225769,\n",
       "  0.44576194882392883,\n",
       "  0.3873920738697052,\n",
       "  0.33489543199539185,\n",
       "  0.3066309988498688,\n",
       "  0.235082745552063,\n",
       "  0.2185523509979248,\n",
       "  0.1694096177816391,\n",
       "  0.1417749524116516,\n",
       "  0.10473451763391495,\n",
       "  0.10261102020740509,\n",
       "  0.0832623690366745,\n",
       "  0.07955082505941391,\n",
       "  0.0653550997376442,\n",
       "  0.061982158571481705,\n",
       "  0.046384938061237335,\n",
       "  0.06651299446821213,\n",
       "  0.07326681166887283,\n",
       "  0.05084202066063881,\n",
       "  0.062313277274370193,\n",
       "  0.03758951649069786,\n",
       "  0.048523273319005966],\n",
       " 'accuracy': [0.503000020980835,\n",
       "  0.531499981880188,\n",
       "  0.5975000262260437,\n",
       "  0.6524999737739563,\n",
       "  0.6725000143051147,\n",
       "  0.7170000076293945,\n",
       "  0.7310000061988831,\n",
       "  0.7590000033378601,\n",
       "  0.7770000100135803,\n",
       "  0.8069999814033508,\n",
       "  0.8349999785423279,\n",
       "  0.8525000214576721,\n",
       "  0.8765000104904175,\n",
       "  0.9020000100135803,\n",
       "  0.909500002861023,\n",
       "  0.9334999918937683,\n",
       "  0.9384999871253967,\n",
       "  0.9610000252723694,\n",
       "  0.9580000042915344,\n",
       "  0.9794999957084656,\n",
       "  0.9745000004768372,\n",
       "  0.9764999747276306,\n",
       "  0.9775000214576721,\n",
       "  0.9850000143051147,\n",
       "  0.9785000085830688,\n",
       "  0.9794999957084656,\n",
       "  0.9850000143051147,\n",
       "  0.9819999933242798,\n",
       "  0.9884999990463257,\n",
       "  0.9865000247955322],\n",
       " 'val_loss': [0.7216119170188904,\n",
       "  0.6990843415260315,\n",
       "  0.6670522689819336,\n",
       "  0.6686385273933411,\n",
       "  0.5787994265556335,\n",
       "  0.6002856492996216,\n",
       "  0.6018103361129761,\n",
       "  0.5998682379722595,\n",
       "  0.6571674346923828,\n",
       "  0.5612082481384277,\n",
       "  0.6458010673522949,\n",
       "  0.858572244644165,\n",
       "  0.7015835642814636,\n",
       "  0.7192714214324951,\n",
       "  0.7066951990127563,\n",
       "  0.9985644817352295,\n",
       "  0.9264628887176514,\n",
       "  1.106313943862915,\n",
       "  1.1603835821151733,\n",
       "  1.2715195417404175,\n",
       "  1.256232500076294,\n",
       "  1.9249202013015747,\n",
       "  1.5748772621154785,\n",
       "  1.5695570707321167,\n",
       "  2.092353105545044,\n",
       "  1.7654963731765747,\n",
       "  1.7703499794006348,\n",
       "  1.7161082029342651,\n",
       "  1.9474955797195435,\n",
       "  1.9223159551620483],\n",
       " 'val_accuracy': [0.5,\n",
       "  0.5080000162124634,\n",
       "  0.5640000104904175,\n",
       "  0.6179999709129333,\n",
       "  0.6940000057220459,\n",
       "  0.6660000085830688,\n",
       "  0.6840000152587891,\n",
       "  0.6940000057220459,\n",
       "  0.7170000076293945,\n",
       "  0.7329999804496765,\n",
       "  0.7179999947547913,\n",
       "  0.671999990940094,\n",
       "  0.7269999980926514,\n",
       "  0.7269999980926514,\n",
       "  0.7020000219345093,\n",
       "  0.718999981880188,\n",
       "  0.7509999871253967,\n",
       "  0.7409999966621399,\n",
       "  0.7429999709129333,\n",
       "  0.75,\n",
       "  0.7390000224113464,\n",
       "  0.7269999980926514,\n",
       "  0.7229999899864197,\n",
       "  0.7379999756813049,\n",
       "  0.7129999995231628,\n",
       "  0.7459999918937683,\n",
       "  0.7400000095367432,\n",
       "  0.7300000190734863,\n",
       "  0.6949999928474426,\n",
       "  0.7269999980926514]}"
      ]
     },
     "execution_count": 11,
     "metadata": {},
     "output_type": "execute_result"
    }
   ],
   "source": [
    "history.history"
   ]
  },
  {
   "cell_type": "code",
   "execution_count": 12,
   "metadata": {},
   "outputs": [
    {
     "data": {
      "image/png": "[encoded data removed]",
      "text/plain": [
       "<Figure size 640x480 with 1 Axes>"
      ]
     },
     "metadata": {},
     "output_type": "display_data"
    },
    {
     "data": {
      "image/png": "[encoded data removed]",
      "text/plain": [
       "<Figure size 640x480 with 1 Axes>"
      ]
     },
     "metadata": {},
     "output_type": "display_data"
    }
   ],
   "source": [
    "import matplotlib.pyplot as plt\n",
    "accuracy = history.history[\"accuracy\"]\n",
    "val_accuracy = history.history[\"val_accuracy\"]\n",
    "loss = history.history[\"loss\"]\n",
    "val_loss = history.history[\"val_loss\"]\n",
    "epochs = range(1, len(accuracy) + 1)\n",
    "plt.plot(epochs, accuracy, \"bo\", label=\"Training accuracy\")\n",
    "plt.plot(epochs, val_accuracy, \"b\", label=\"Validation accuracy\")\n",
    "plt.title(\"Training and validation accuracy\")\n",
    "plt.legend()\n",
    "plt.figure()\n",
    "plt.plot(epochs, loss, \"bo\", label=\"Training loss\")\n",
    "plt.plot(epochs, val_loss, \"b\", label=\"Validation loss\")\n",
    "plt.title(\"Training and validation loss\")\n",
    "plt.legend()\n",
    "plt.show()\n"
   ]
  },
  {
   "cell_type": "code",
   "execution_count": 13,
   "metadata": {},
   "outputs": [
    {
     "name": "stdout",
     "output_type": "stream",
     "text": [
      "63/63 [==============================] - 3s 36ms/step - loss: 0.6114 - accuracy: 0.7120\n",
      "테스트 정확도: 0.712\n"
     ]
    }
   ],
   "source": [
    "test_model = keras.models.load_model(\"convnet_from_scratch.keras\")\n",
    "test_loss, test_acc = test_model.evaluate(test_dataset)\n",
    "print(f\"테스트 정확도: {test_acc:.3f}\")\n"
   ]
  },
  {
   "cell_type": "code",
   "execution_count": null,
   "metadata": {},
   "outputs": [],
   "source": [
    "\n",
    "data_augmentation = keras.Sequential(\n",
    "    [\n",
    "        layers.RandomFlip(\"horizontal\"),\n",
    "        layers.RandomRotation(0.1),\n",
    "        layers.RandomZoom(0.2),\n",
    "    ])\n"
   ]
  },
  {
   "cell_type": "code",
   "execution_count": null,
   "metadata": {},
   "outputs": [],
   "source": [
    "plt.figure(figsize=(10, 10))\n",
    "for images, _ in train_dataset.take(1):\n",
    "    for i in range(9):\n",
    "        augmented_images = data_augmentation(images)\n",
    "        ax = plt.subplot(3, 3, i + 1)\n",
    "        plt.imshow(augmented_images[0].numpy().astype(\"uint8\"))\n",
    "        plt.axis(\"off\")\n"
   ]
  },
  {
   "cell_type": "code",
   "execution_count": null,
   "metadata": {},
   "outputs": [],
   "source": [
    "inputs = keras.Input(shape=(180, 180, 3))\n",
    "x = data_augmentation(inputs)\n",
    "x = layers.Rescaling(1./255)(x)\n",
    "x = layers.Conv2D(filters=32, kernel_size=3, activation=\"relu\")(x)\n",
    "x = layers.MaxPooling2D(pool_size=2)(x)\n",
    "x = layers.Conv2D(filters=64, kernel_size=3, activation=\"relu\")(x)\n",
    "x = layers.MaxPooling2D(pool_size=2)(x)\n",
    "x = layers.Conv2D(filters=128, kernel_size=3, activation=\"relu\")(x)\n",
    "x = layers.MaxPooling2D(pool_size=2)(x)\n",
    "x = layers.Conv2D(filters=256, kernel_size=3, activation=\"relu\")(x)\n",
    "x = layers.MaxPooling2D(pool_size=2)(x)\n",
    "x = layers.Conv2D(filters=256, kernel_size=3, activation=\"relu\")(x)\n",
    "x = layers.Flatten()(x)\n",
    "x = layers.Dropout(0.5)(x)\n",
    "outputs = layers.Dense(1, activation=\"sigmoid\")(x)\n",
    "model = keras.Model(inputs=inputs, outputs=outputs)\n",
    "\n",
    "model.compile(loss=\"binary_crossentropy\",\n",
    "              optimizer=\"rmsprop\",\n",
    "              metrics=[\"accuracy\"])\n"
   ]
  },
  {
   "cell_type": "code",
   "execution_count": null,
   "metadata": {},
   "outputs": [],
   "source": [
    "callbacks = [\n",
    "    keras.callbacks.ModelCheckpoint(\n",
    "        filepath=\"convnet_from_scratch_with_augmentation.keras\",\n",
    "        save_best_only=True,\n",
    "        monitor=\"val_loss\")\n",
    "]\n",
    "history = model.fit(\n",
    "    train_dataset,\n",
    "    epochs=100,\n",
    "    validation_data=validation_dataset,\n",
    "    callbacks=callbacks)\n"
   ]
  },
  {
   "cell_type": "code",
   "execution_count": null,
   "metadata": {},
   "outputs": [],
   "source": [
    "test_model = keras.models.load_model(\n",
    "    \"convnet_from_scratch_with_augmentation.keras\")\n",
    "test_loss, test_acc = test_model.evaluate(test_dataset)\n",
    "print(f\"테스트 정확도: {test_acc:.3f}\")\n"
   ]
  },
  {
   "cell_type": "code",
   "execution_count": null,
   "metadata": {},
   "outputs": [],
   "source": [
    "conv_base = keras.applications.vgg16.VGG16(\n",
    "    weights=\"imagenet\",\n",
    "    include_top=False,\n",
    "    input_shape=(180, 180, 3))\n"
   ]
  },
  {
   "cell_type": "code",
   "execution_count": null,
   "metadata": {},
   "outputs": [],
   "source": [
    "conv_base.summary()"
   ]
  },
  {
   "cell_type": "code",
   "execution_count": null,
   "metadata": {},
   "outputs": [],
   "source": [
    "import numpy as np\n",
    "#피쳐 뽑아내기?\n",
    "def get_features_and_labels(dataset):\n",
    "    all_features = []\n",
    "    all_labels = []\n",
    "    for images, labels in dataset:\n",
    "        preprocessed_images = keras.applications.vgg16.preprocess_input(images)\n",
    "        features = conv_base.predict(preprocessed_images)\n",
    "        all_features.append(features)\n",
    "        all_labels.append(labels)\n",
    "    return np.concatenate(all_features), np.concatenate(all_labels)\n",
    "\n",
    "train_features, train_labels =  get_features_and_labels(train_dataset)\n",
    "val_features, val_labels =  get_features_and_labels(validation_dataset)\n",
    "test_features, test_labels =  get_features_and_labels(test_dataset)\n"
   ]
  },
  {
   "cell_type": "code",
   "execution_count": null,
   "metadata": {},
   "outputs": [],
   "source": [
    "train_features.shape"
   ]
  },
  {
   "cell_type": "code",
   "execution_count": null,
   "metadata": {},
   "outputs": [],
   "source": [
    "inputs = keras.Input(shape=(5, 5, 512))\n",
    "x = layers.Flatten()(inputs)\n",
    "x = layers.Dense(256)(x)\n",
    "x = layers.Dropout(0.5)(x)\n",
    "outputs = layers.Dense(1, activation=\"sigmoid\")(x)\n",
    "model = keras.Model(inputs, outputs)\n",
    "model.compile(loss=\"binary_crossentropy\",\n",
    "              optimizer=\"rmsprop\",\n",
    "              metrics=[\"accuracy\"])\n",
    "\n",
    "callbacks = [\n",
    "    keras.callbacks.ModelCheckpoint(\n",
    "      filepath=\"feature_extraction.keras\",\n",
    "      save_best_only=True,\n",
    "      monitor=\"val_loss\")\n",
    "]\n",
    "history = model.fit(\n",
    "    train_features, train_labels,\n",
    "    epochs=20,\n",
    "    validation_data=(val_features, val_labels),\n",
    "    callbacks=callbacks)\n"
   ]
  },
  {
   "cell_type": "code",
   "execution_count": null,
   "metadata": {},
   "outputs": [],
   "source": [
    "import matplotlib.pyplot as plt\n",
    "acc = history.history[\"accuracy\"]\n",
    "val_acc = history.history[\"val_accuracy\"]\n",
    "loss = history.history[\"loss\"]\n",
    "val_loss = history.history[\"val_loss\"]\n",
    "epochs = range(1, len(acc) + 1)\n",
    "plt.plot(epochs, acc, \"bo\", label=\"Training accuracy\")\n",
    "plt.plot(epochs, val_acc, \"b\", label=\"Validation accuracy\")\n",
    "plt.title(\"Training and validation accuracy\")\n",
    "plt.legend()\n",
    "plt.figure()\n",
    "plt.plot(epochs, loss, \"bo\", label=\"Training loss\")\n",
    "plt.plot(epochs, val_loss, \"b\", label=\"Validation loss\")\n",
    "plt.title(\"Training and validation loss\")\n",
    "plt.legend()\n",
    "plt.show()\n"
   ]
  },
  {
   "cell_type": "code",
   "execution_count": null,
   "metadata": {},
   "outputs": [],
   "source": [
    "test_model = keras.models.load_model(\n",
    "    \"feature_extraction.keras\")\n",
    "test_loss, test_acc = test_model.evaluate(test_features,test_labels)\n",
    "print(f\"테스트 정확도: {test_acc:.3f}\")\n"
   ]
  },
  {
   "cell_type": "code",
   "execution_count": null,
   "metadata": {},
   "outputs": [],
   "source": [
    "conv_base  = keras.applications.vgg16.VGG16(\n",
    "    weights=\"imagenet\",\n",
    "    include_top=False)\n",
    "conv_base.trainable = False\n"
   ]
  },
  {
   "cell_type": "code",
   "execution_count": null,
   "metadata": {},
   "outputs": [],
   "source": [
    "conv_base  = keras.applications.vgg16.VGG16(\n",
    "    weights=\"imagenet\",\n",
    "    include_top=False)\n",
    "conv_base.trainable = False\n",
    "\n",
    "\n",
    "data_augmentation = keras.Sequential(\n",
    "    [\n",
    "        layers.RandomFlip(\"horizontal\"),\n",
    "        layers.RandomRotation(0.1),\n",
    "        layers.RandomZoom(0.2),\n",
    "    ]\n",
    ")\n",
    "\n",
    "inputs = keras.Input(shape=(180, 180, 3))\n",
    "x = data_augmentation(inputs)\n",
    "x = keras.applications.vgg16.preprocess_input(x) # 이놈이 핵심. \n",
    "x = conv_base(x) \n",
    "x = layers.Flatten()(x)\n",
    "x = layers.Dense(256)(x)\n",
    "x = layers.Dropout(0.5)(x)\n",
    "outputs = layers.Dense(1, activation=\"sigmoid\")(x)\n",
    "model = keras.Model(inputs, outputs)\n",
    "model.compile(loss=\"binary_crossentropy\",\n",
    "              optimizer=\"rmsprop\",\n",
    "              metrics=[\"accuracy\"])\n"
   ]
  },
  {
   "cell_type": "code",
   "execution_count": null,
   "metadata": {},
   "outputs": [],
   "source": [
    "callbacks = [\n",
    "    keras.callbacks.ModelCheckpoint(\n",
    "        filepath=\"feature_extraction_with_data_augmentation.keras\",\n",
    "        save_best_only=True,\n",
    "        monitor=\"val_loss\")\n",
    "]\n",
    "history = model.fit(\n",
    "    train_dataset,\n",
    "    epochs=50,\n",
    "    validation_data=validation_dataset,\n",
    "    callbacks=callbacks)\n"
   ]
  },
  {
   "cell_type": "code",
   "execution_count": null,
   "metadata": {},
   "outputs": [],
   "source": [
    "test_model = keras.models.load_model(\n",
    "    \"feature_extraction_with_data_augmentation.keras\")\n",
    "test_loss, test_acc = test_model.evaluate(test_dataset)\n",
    "print(f\"테스트 정확도: {test_acc:.3f}\")\n"
   ]
  },
  {
   "cell_type": "code",
   "execution_count": null,
   "metadata": {},
   "outputs": [],
   "source": [
    "\n",
    "conv_base.trainable = True\n",
    "for layer in conv_base.layers[:-4]:\n",
    "    layer.trainable = False\n"
   ]
  },
  {
   "cell_type": "code",
   "execution_count": null,
   "metadata": {},
   "outputs": [],
   "source": [
    "model.compile(loss=\"binary_crossentropy\",\n",
    "              optimizer=keras.optimizers.RMSprop(learning_rate=1e-5),\n",
    "              metrics=[\"accuracy\"])\n",
    "\n",
    "callbacks = [\n",
    "    keras.callbacks.ModelCheckpoint(\n",
    "        filepath=\"fine_tuning.keras\",\n",
    "        save_best_only=True,\n",
    "        monitor=\"val_loss\")\n",
    "]\n",
    "history = model.fit(\n",
    "    train_dataset,\n",
    "    epochs=30,\n",
    "    validation_data=validation_dataset,\n",
    "    callbacks=callbacks)\n"
   ]
  }
 ],
 "metadata": {
  "kernelspec": {
   "display_name": "dl-dev",
   "language": "python",
   "name": "python3"
  },
  "language_info": {
   "codemirror_mode": {
    "name": "ipython",
    "version": 3
   },
   "file_extension": ".py",
   "mimetype": "text/x-python",
   "name": "python",
   "nbconvert_exporter": "python",
   "pygments_lexer": "ipython3",
   "version": "3.8.16"
  }
 },
 "nbformat": 4,
 "nbformat_minor": 2
}
